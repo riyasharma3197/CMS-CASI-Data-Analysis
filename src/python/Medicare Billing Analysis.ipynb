{
 "cells": [
  {
   "cell_type": "code",
   "execution_count": 1,
   "id": "ce6dc3ba-0da9-473f-919c-aa8ba8c26440",
   "metadata": {},
   "outputs": [],
   "source": [
    "import pandas as pd"
   ]
  },
  {
   "cell_type": "code",
   "execution_count": 2,
   "id": "5a7b47ab-e2ca-4f25-a655-8efcc1638859",
   "metadata": {},
   "outputs": [],
   "source": [
    "df2013 = pd.read_csv('Medicare-Physician-and-Other-Supplier-NPI-Aggregate-CY2013.csv')"
   ]
  },
  {
   "cell_type": "code",
   "execution_count": 3,
   "id": "3d245f6b-35fc-4324-a8fd-5d842a712a76",
   "metadata": {},
   "outputs": [],
   "source": [
    "df2014 = pd.read_csv('Medicare-Physician-and-Other-Supplier-NPI-Aggregate-CY2014.csv')"
   ]
  },
  {
   "cell_type": "code",
   "execution_count": null,
   "id": "037b418a-504e-4055-8feb-71f722dfcb19",
   "metadata": {},
   "outputs": [],
   "source": [
    "merged_data = pd.merge(df2013, df2014, how=\"left\", on=\"country\")"
   ]
  },
  {
   "cell_type": "code",
   "execution_count": null,
   "id": "3e9ae37f-3b8b-47c4-b4de-80d113eae994",
   "metadata": {},
   "outputs": [],
   "source": [
    "merged_data."
   ]
  },
  {
   "cell_type": "code",
   "execution_count": null,
   "id": "46af8704-a279-4700-a33e-4913bdb3ab10",
   "metadata": {},
   "outputs": [],
   "source": []
  },
  {
   "cell_type": "code",
   "execution_count": null,
   "id": "1ba555ed-1494-488b-8381-1e149ba260ba",
   "metadata": {},
   "outputs": [],
   "source": []
  },
  {
   "cell_type": "code",
   "execution_count": null,
   "id": "027ca99c-2923-4dd9-bdcc-a432e4cab523",
   "metadata": {},
   "outputs": [],
   "source": []
  },
  {
   "cell_type": "code",
   "execution_count": null,
   "id": "818d33a8-6839-4db9-b99c-1c07a82c0b2c",
   "metadata": {},
   "outputs": [],
   "source": []
  },
  {
   "cell_type": "code",
   "execution_count": null,
   "id": "1ec3e69e-bb3b-4cde-ab03-fcaa724a8439",
   "metadata": {},
   "outputs": [],
   "source": []
  }
 ],
 "metadata": {
  "kernelspec": {
   "display_name": "Python [conda env:base] *",
   "language": "python",
   "name": "conda-base-py"
  },
  "language_info": {
   "codemirror_mode": {
    "name": "ipython",
    "version": 3
   },
   "file_extension": ".py",
   "mimetype": "text/x-python",
   "name": "python",
   "nbconvert_exporter": "python",
   "pygments_lexer": "ipython3",
   "version": "3.11.5"
  }
 },
 "nbformat": 4,
 "nbformat_minor": 5
}
